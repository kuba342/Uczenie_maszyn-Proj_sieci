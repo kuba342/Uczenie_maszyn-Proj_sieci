{
 "cells": [
  {
   "cell_type": "markdown",
   "id": "61689754-0a01-4473-9bf1-252cf1ffe7cc",
   "metadata": {},
   "source": [
    "# Model bez cech globalnych w wewnętrznej warstwie"
   ]
  },
  {
   "cell_type": "code",
   "execution_count": 1,
   "id": "d5c02030-f290-42fa-95b0-7d02da8f9a85",
   "metadata": {
    "tags": []
   },
   "outputs": [
    {
     "name": "stdout",
     "output_type": "stream",
     "text": [
      "1840\n",
      "460\n"
     ]
    }
   ],
   "source": [
    "import torch\n",
    "\n",
    "# Wczytaj zbiór uczący\n",
    "train_dataset = torch.load('train_dataset_big.pt')\n",
    "# wczytaj zbiór testowy\n",
    "test_dataset = torch.load('test_dataset_big.pt')\n",
    "\n",
    "print(len(train_dataset))\n",
    "print(len(test_dataset))"
   ]
  },
  {
   "cell_type": "markdown",
   "id": "7dd0248d-fbe4-48ba-87dd-358c38000d76",
   "metadata": {},
   "source": [
    "# Definicja modelu"
   ]
  },
  {
   "cell_type": "code",
   "execution_count": 28,
   "id": "b8cfe90c-2c45-4956-baf1-d1cfa9474cf1",
   "metadata": {
    "tags": []
   },
   "outputs": [],
   "source": [
    "import torch\n",
    "import torch.nn as nn\n",
    "import torch.nn.functional as F\n",
    "from torch_geometric.nn import GraphConv\n",
    "\n",
    "class GraphRegressionModel(nn.Module):\n",
    "    def __init__(self, num_node_features=1, hidden_dim=64, output_dim=1, dropout=0.5):\n",
    "        super(GraphRegressionModel, self).__init__()\n",
    "\n",
    "        # Graph Convolutional Layer\n",
    "        self.conv1 = GraphConv(num_node_features, hidden_dim)\n",
    "\n",
    "        # Fully Connected Layers with Dropout\n",
    "        self.fc1 = nn.Linear(hidden_dim, hidden_dim)\n",
    "        self.dropout = nn.Dropout(p=dropout)\n",
    "        self.fc2 = nn.Linear(hidden_dim, output_dim)\n",
    "\n",
    "    def forward(self, data):\n",
    "        x, edge_index, edge_weight = data.x, data.edge_index, data.edge_weight\n",
    "\n",
    "        # Apply Graph Convolution\n",
    "        x = self.conv1(x, edge_index, edge_weight=edge_weight)\n",
    "\n",
    "        # Fully Connected Layers with Dropout\n",
    "        x = F.relu(self.fc1(x))\n",
    "        x = self.dropout(x)\n",
    "        x = self.fc2(x)\n",
    "\n",
    "        return x\n",
    "    \n",
    "    def loss(self, pred, score):\n",
    "        return F.mse_loss(pred, score)"
   ]
  },
  {
   "cell_type": "markdown",
   "id": "e0da4481-86cb-4aad-8bd5-bd9a979fcbbc",
   "metadata": {},
   "source": [
    "# Inicjalizacja modelu bez cech globalnych\n",
    "Wykorzystane zostaną parametry na podstawie naszych wcześniejszych badań, zatem zakładam:\n",
    "* hidden_dim = 192\n",
    "* dropout = 0.1"
   ]
  },
  {
   "cell_type": "code",
   "execution_count": 15,
   "id": "9747b20d-61c4-411a-9906-f6c40bc37cec",
   "metadata": {
    "tags": []
   },
   "outputs": [
    {
     "name": "stdout",
     "output_type": "stream",
     "text": [
      "cpu\n",
      "Epoch: 0\n"
     ]
    },
    {
     "name": "stderr",
     "output_type": "stream",
     "text": [
      "C:\\Users\\jderd\\AppData\\Local\\Temp\\ipykernel_18776\\1814573080.py:32: UserWarning: Using a target size (torch.Size([1, 1])) that is different to the input size (torch.Size([28, 1])). This will likely lead to incorrect results due to broadcasting. Please ensure they have the same size.\n",
      "  return F.mse_loss(pred, score)\n"
     ]
    },
    {
     "name": "stdout",
     "output_type": "stream",
     "text": [
      "Epoch: 10\n",
      "Epoch: 20\n",
      "Epoch: 30\n",
      "Epoch: 40\n"
     ]
    }
   ],
   "source": [
    "import torch\n",
    "from torch_geometric.loader import DataLoader\n",
    "\n",
    "device = torch.device('cuda' if torch.cuda.is_available() else 'cpu')\n",
    "print(device)\n",
    "\n",
    "hidden_dim = 192\n",
    "dropout = 0.1\n",
    "\n",
    "model = GraphRegressionModel(hidden_dim=hidden_dim, dropout=dropout)\n",
    "\n",
    "train_loader = DataLoader(train_dataset, batch_size=1 , shuffle=True)\n",
    "test_loader = DataLoader(test_dataset, batch_size=1, shuffle=False)\n",
    "\n",
    "optimizer = torch.optim.Adam(model.parameters(), lr=0.001)\n",
    "num_epochs = 50\n",
    "\n",
    "# Trening modelu\n",
    "for epoch in range(num_epochs):\n",
    "    if epoch % 10 == 0:\n",
    "        print(\"Epoch:\", epoch)\n",
    "    for data in train_loader:\n",
    "        optimizer.zero_grad()\n",
    "        output = model(data)\n",
    "        loss = model.loss(output, data.y.view(-1, 1).float())\n",
    "        loss.backward()\n",
    "        optimizer.step()"
   ]
  },
  {
   "cell_type": "code",
   "execution_count": 26,
   "id": "201ddcaa-68d4-4fbd-acba-7c8eea1d9b8e",
   "metadata": {
    "tags": []
   },
   "outputs": [
    {
     "name": "stdout",
     "output_type": "stream",
     "text": [
      "R2 Score = -0.0011\n",
      "MSE Score = 52549.9436\n",
      "RMSE Score = 229.2377\n"
     ]
    }
   ],
   "source": [
    "from sklearn.metrics import r2_score, mean_squared_error\n",
    "\n",
    "y_true = []\n",
    "y_pred = []\n",
    "\n",
    "model.eval()\n",
    "\n",
    "for data in test_loader:\n",
    "    with torch.no_grad():\n",
    "        prediction = model(data)[0][0].item()\n",
    "        y_pred.append(prediction)\n",
    "    \n",
    "    y_true.append(data.y.item())\n",
    "\n",
    "r2 = r2_score(y_true, y_pred)\n",
    "mse = mean_squared_error(y_true, y_pred)\n",
    "rmse = mse**(1/2)\n",
    "\n",
    "print(f\"R2 Score = {r2:.4f}\")\n",
    "print(f\"MSE Score = {mse:.4f}\")\n",
    "print(f\"RMSE Score = {rmse:.4f}\")"
   ]
  }
 ],
 "metadata": {
  "kernelspec": {
   "display_name": "Python 3 (ipykernel)",
   "language": "python",
   "name": "python3"
  },
  "language_info": {
   "codemirror_mode": {
    "name": "ipython",
    "version": 3
   },
   "file_extension": ".py",
   "mimetype": "text/x-python",
   "name": "python",
   "nbconvert_exporter": "python",
   "pygments_lexer": "ipython3",
   "version": "3.11.5"
  }
 },
 "nbformat": 4,
 "nbformat_minor": 5
}
