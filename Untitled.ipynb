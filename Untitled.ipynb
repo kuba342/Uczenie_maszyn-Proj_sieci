{
 "cells": [
  {
   "cell_type": "code",
   "execution_count": 4,
   "id": "dc1dff05-365c-4905-9ed2-24dcd27a9ffe",
   "metadata": {
    "tags": []
   },
   "outputs": [
    {
     "name": "stdout",
     "output_type": "stream",
     "text": [
      "OK\n"
     ]
    }
   ],
   "source": [
    "import os\n",
    "\n",
    "# Bazowa ścieżka do folderu z danymi\n",
    "base_path = r\"C:\\Users\\jderd\\LabAnaconda\\GNN\\euro28\"\n",
    "\n",
    "# Przechodź przez foldery od 10 do 99\n",
    "for i in range(11, 100):\n",
    "    folder_name = f\"request-set-{i}\"\n",
    "    folder_path = os.path.join(base_path, folder_name, \"demands_\" + str(i))\n",
    "    \n",
    "    # Sprawdź czy podana ścieżka jest folderem\n",
    "    if os.path.isdir(folder_path):\n",
    "        # Przechodź przez wszystkie pliki w folderze\n",
    "        for filename in os.listdir(folder_path):\n",
    "            file_path = os.path.join(folder_path, filename)\n",
    "            \n",
    "            # Sprawdź czy plik ma rozszerzenie .txt\n",
    "            if filename.endswith(\".txt\"):\n",
    "                # Dodaj dodatkową linię tekstu na początku pliku\n",
    "                with open(file_path, 'r+') as file:\n",
    "                    content = file.read()\n",
    "                    file.seek(0, 0)\n",
    "                    file.write(\"# format: from_node, to_node, traffic_class, traffic - demand values in each iteration\\n\" + content)\n",
    "    else:\n",
    "        print(f\"Folder {folder_path} nie istnieje.\")\n",
    "\n",
    "print(\"OK\")\n"
   ]
  },
  {
   "cell_type": "code",
   "execution_count": null,
   "id": "840a58cd-805b-45d5-aacd-52b1997e4bcd",
   "metadata": {},
   "outputs": [],
   "source": []
  }
 ],
 "metadata": {
  "kernelspec": {
   "display_name": "Python 3 (ipykernel)",
   "language": "python",
   "name": "python3"
  },
  "language_info": {
   "codemirror_mode": {
    "name": "ipython",
    "version": 3
   },
   "file_extension": ".py",
   "mimetype": "text/x-python",
   "name": "python",
   "nbconvert_exporter": "python",
   "pygments_lexer": "ipython3",
   "version": "3.11.5"
  }
 },
 "nbformat": 4,
 "nbformat_minor": 5
}
