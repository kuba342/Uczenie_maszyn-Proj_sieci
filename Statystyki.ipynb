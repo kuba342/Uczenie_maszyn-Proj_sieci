{
 "cells": [
  {
   "cell_type": "markdown",
   "id": "531a0e25-0623-4f40-8826-f65ea068a52f",
   "metadata": {},
   "source": [
    "# Złączenie plików"
   ]
  },
  {
   "cell_type": "code",
   "execution_count": 1,
   "id": "32b39b7d-7080-44b2-a189-eb76115dba0c",
   "metadata": {
    "tags": []
   },
   "outputs": [
    {
     "name": "stdout",
     "output_type": "stream",
     "text": [
      "Liczba grafów w zbiorze: 2300\n",
      "Informacje o pierwszym grafie:\n",
      "Cechy globalne: density = 0.460317462682724; average_clustering = 0.4645223021507263\n"
     ]
    }
   ],
   "source": [
    "import torch\n",
    "from torch_geometric.data import Data\n",
    "from torch_geometric.loader import DataLoader\n",
    "\n",
    "train = torch.load(\"train_dataset_big.pt\")\n",
    "test = torch.load(\"test_dataset_big.pt\")\n",
    "\n",
    "dataset = torch.utils.data.ConcatDataset([train, test])\n",
    "\n",
    "# Wyświetl informacje o zbiorze\n",
    "print(\"Liczba grafów w zbiorze:\", len(dataset))\n",
    "\n",
    "# Przeiteruj przez pierwszy graf w zbiorze i wyświetl jego właściwości\n",
    "print(\"Informacje o pierwszym grafie:\")\n",
    "first = dataset[0]\n",
    "print(f\"Cechy globalne: density = {first.global_feature[0][0]}; average_clustering = {first.global_feature[0][1]}\")\n"
   ]
  },
  {
   "cell_type": "markdown",
   "id": "053c5a47-e921-4158-ba4d-de8ddc426d0e",
   "metadata": {},
   "source": [
    "# Korelacja między cechami a etykietą"
   ]
  },
  {
   "cell_type": "code",
   "execution_count": 2,
   "id": "afcf511c-16cb-45ce-a70c-130f7c9ed6a2",
   "metadata": {
    "tags": []
   },
   "outputs": [
    {
     "name": "stdout",
     "output_type": "stream",
     "text": [
      "          labels  densities  average_clustering\n",
      "0     776.679993   0.460317            0.464522\n",
      "1     541.690002   0.337302            0.339359\n",
      "2     193.619995   0.124339            0.150419\n",
      "3     798.280029   0.473545            0.470910\n",
      "4     459.049988   0.288360            0.276505\n",
      "...          ...        ...                 ...\n",
      "2295  284.540009   0.181217            0.170825\n",
      "2296  280.470001   0.175926            0.182000\n",
      "2297  650.200012   0.395503            0.402219\n",
      "2298  860.440002   0.522487            0.522603\n",
      "2299  574.260010   0.351852            0.349937\n",
      "\n",
      "[2300 rows x 3 columns]\n"
     ]
    },
    {
     "data": {
      "text/html": [
       "<div>\n",
       "<style scoped>\n",
       "    .dataframe tbody tr th:only-of-type {\n",
       "        vertical-align: middle;\n",
       "    }\n",
       "\n",
       "    .dataframe tbody tr th {\n",
       "        vertical-align: top;\n",
       "    }\n",
       "\n",
       "    .dataframe thead th {\n",
       "        text-align: right;\n",
       "    }\n",
       "</style>\n",
       "<table border=\"1\" class=\"dataframe\">\n",
       "  <thead>\n",
       "    <tr style=\"text-align: right;\">\n",
       "      <th></th>\n",
       "      <th>labels</th>\n",
       "      <th>densities</th>\n",
       "      <th>average_clustering</th>\n",
       "    </tr>\n",
       "  </thead>\n",
       "  <tbody>\n",
       "    <tr>\n",
       "      <th>labels</th>\n",
       "      <td>1.000000</td>\n",
       "      <td>0.997303</td>\n",
       "      <td>0.995173</td>\n",
       "    </tr>\n",
       "    <tr>\n",
       "      <th>densities</th>\n",
       "      <td>0.997303</td>\n",
       "      <td>1.000000</td>\n",
       "      <td>0.998032</td>\n",
       "    </tr>\n",
       "    <tr>\n",
       "      <th>average_clustering</th>\n",
       "      <td>0.995173</td>\n",
       "      <td>0.998032</td>\n",
       "      <td>1.000000</td>\n",
       "    </tr>\n",
       "  </tbody>\n",
       "</table>\n",
       "</div>"
      ],
      "text/plain": [
       "                      labels  densities  average_clustering\n",
       "labels              1.000000   0.997303            0.995173\n",
       "densities           0.997303   1.000000            0.998032\n",
       "average_clustering  0.995173   0.998032            1.000000"
      ]
     },
     "execution_count": 2,
     "metadata": {},
     "output_type": "execute_result"
    }
   ],
   "source": [
    "import pandas as pd\n",
    "\n",
    "densities = []\n",
    "average_clustering = []\n",
    "labels = []\n",
    "df = pd.DataFrame()\n",
    "\n",
    "for graph in dataset:\n",
    "    labels.append(graph.y[0].item())\n",
    "    densities.append(graph.global_feature[0][0].item())\n",
    "    average_clustering.append(graph.global_feature[0][1].item())\n",
    "\n",
    "df['labels'] = pd.DataFrame(labels)\n",
    "df['densities'] = pd.DataFrame(densities)\n",
    "df['average_clustering'] = pd.DataFrame(average_clustering)\n",
    "print(df)\n",
    "\n",
    "df.corr()"
   ]
  },
  {
   "cell_type": "code",
   "execution_count": null,
   "id": "cfbed986-af0d-48bc-b17a-d0753db33278",
   "metadata": {},
   "outputs": [],
   "source": [
    "df.plot.scatter(x='labels', y='densities')"
   ]
  },
  {
   "cell_type": "code",
   "execution_count": null,
   "id": "7cb79dee-f9af-4dd1-b26b-c98c862461b6",
   "metadata": {},
   "outputs": [],
   "source": []
  }
 ],
 "metadata": {
  "kernelspec": {
   "display_name": "Python 3 (ipykernel)",
   "language": "python",
   "name": "python3"
  },
  "language_info": {
   "codemirror_mode": {
    "name": "ipython",
    "version": 3
   },
   "file_extension": ".py",
   "mimetype": "text/x-python",
   "name": "python",
   "nbconvert_exporter": "python",
   "pygments_lexer": "ipython3",
   "version": "3.11.5"
  }
 },
 "nbformat": 4,
 "nbformat_minor": 5
}
