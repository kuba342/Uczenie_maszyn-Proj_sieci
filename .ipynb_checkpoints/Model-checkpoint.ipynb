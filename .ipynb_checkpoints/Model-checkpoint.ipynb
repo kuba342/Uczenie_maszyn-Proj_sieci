{
 "cells": [
  {
   "cell_type": "markdown",
   "id": "9c871fa1-528b-4309-a1cc-9ad0de00c8fa",
   "metadata": {},
   "source": [
    "# Próba wykorzystania istniejącego modelu RegGNN\n",
    "https://github.com/basiralab/RegGNN/blob/main/proposed_method/RegGNN.py\n",
    "\n",
    "Nasze zadanie opiera się na przygotowaniu modelu rozwiązującego zadanie regresji grafowej, czyli na podstawie grafów, ich cech globalnych i etykiet chcemy prognozować wartość metryki średniej ilości wykorzystanych transceiverów podczas symulacji."
   ]
  },
  {
   "cell_type": "code",
   "execution_count": 1,
   "id": "9deef8a4-17e1-4edd-ba6f-3f19d15a96a2",
   "metadata": {
    "tags": []
   },
   "outputs": [
    {
     "name": "stdout",
     "output_type": "stream",
     "text": [
      "1840\n",
      "460\n"
     ]
    }
   ],
   "source": [
    "import torch\n",
    "\n",
    "# Wczytaj zbiór uczący\n",
    "train_dataset = torch.load('train_dataset_big.pt')\n",
    "# wczytaj zbiór testowy\n",
    "test_dataset = torch.load('test_dataset_big.pt')\n",
    "\n",
    "print(len(train_dataset))\n",
    "print(len(test_dataset))"
   ]
  },
  {
   "cell_type": "markdown",
   "id": "0b88cbb7-71a2-4e0f-b89f-2758953ecd6f",
   "metadata": {},
   "source": [
    "# Przykładowy model regresyjny Grafowej sieci neuronowej GNN"
   ]
  },
  {
   "cell_type": "code",
   "execution_count": 2,
   "id": "eea28cb8-2d89-4112-880d-372fd8f142e1",
   "metadata": {
    "tags": []
   },
   "outputs": [],
   "source": [
    "import torch\n",
    "import torch.nn as nn\n",
    "import torch.nn.functional as F\n",
    "from torch_geometric.nn import GraphConv\n",
    "\n",
    "class GraphRegressionModel(nn.Module):\n",
    "    def __init__(self, num_node_features=1, hidden_dim=64, output_dim=1, dropout=0.5):\n",
    "        super(GraphRegressionModel, self).__init__()\n",
    "\n",
    "        # Graph Convolutional Layer\n",
    "        self.conv1 = GraphConv(num_node_features, hidden_dim)\n",
    "\n",
    "        # Fully Connected Layers with Dropout\n",
    "        self.fc1 = nn.Linear(hidden_dim + 2, hidden_dim)\n",
    "        self.dropout = nn.Dropout(p=dropout)\n",
    "        self.fc2 = nn.Linear(hidden_dim, output_dim)\n",
    "\n",
    "    def forward(self, data):\n",
    "        x, edge_index, edge_weight, global_feature = data.x, data.edge_index, data.edge_weight, data.global_feature\n",
    "\n",
    "        # Apply Graph Convolution\n",
    "        x = self.conv1(x, edge_index, edge_weight=edge_weight)\n",
    "\n",
    "        # Global features concatenation\n",
    "        global_feature = global_feature.expand(x.size(0), -1)  # Dostosuj global_feature do rozmiaru x\n",
    "        x = torch.cat([x, global_feature], dim=1)\n",
    "\n",
    "        # Fully Connected Layers with Dropout\n",
    "        x = F.relu(self.fc1(x))\n",
    "        x = self.dropout(x)\n",
    "        x = self.fc2(x)\n",
    "\n",
    "        return x\n",
    "    \n",
    "    def loss(self, pred, score):\n",
    "        return F.mse_loss(pred, score)"
   ]
  },
  {
   "cell_type": "code",
   "execution_count": 3,
   "id": "900c11d2-46cc-4d45-88fb-ba53eced7db1",
   "metadata": {},
   "outputs": [
    {
     "name": "stdout",
     "output_type": "stream",
     "text": [
      "  0%|          | 0/10 [00:00<?, ?trial/s, best loss=?]\n"
     ]
    },
    {
     "name": "stderr",
     "output_type": "stream",
     "text": [
      "\n",
      "KeyboardInterrupt\n",
      "\n"
     ]
    }
   ],
   "source": [
    "from hyperopt import fmin, tpe, hp\n",
    "\n",
    "# Zdefiniuj funkcję oceny (score function)\n",
    "def objective(params):\n",
    "    hidden_dim = int(params['hidden_dim'])\n",
    "    dropout = params['dropout']\n",
    "\n",
    "    model = GraphRegressionModel(hidden_dim=hidden_dim, dropout=dropout)\n",
    "    \n",
    "    # Definiuj optymalizator, liczbę epok, itp.\n",
    "    optimizer = torch.optim.Adam(model.parameters(), lr=0.001)\n",
    "    num_epochs = 200\n",
    "    \n",
    "    for epoch in range(num_epochs):\n",
    "        # Trening i ewaluacja modelu\n",
    "        for data in train_loader:\n",
    "            optimizer.zero_grad()\n",
    "            output = model(data)\n",
    "            loss = model.loss(output, data.y.view(-1, 1).float())\n",
    "            loss.backward()\n",
    "            optimizer.step()\n",
    "    \n",
    "    # Ewaluacja na zbiorze testowym\n",
    "    test_loss = 0.0  \n",
    "    for data in test_loader:\n",
    "        output = model(data)\n",
    "        test_loss += model.loss(output, data.y.view(-1, 1).float()).item()\n",
    "    \n",
    "    # Zwróć funkcję oceny (score)\n",
    "    return test_loss\n",
    "\n",
    "# Przestrzeń poszukiwań dla hyperopt\n",
    "space = {\n",
    "    'hidden_dim': hp.quniform('hidden_dim', 32, 256, 32),  # Przeszukuj wartości co 32\n",
    "    'dropout': hp.uniform('dropout', 0.05, 0.8),\n",
    "}\n",
    "\n",
    "# Minimalizacja funkcji oceny za pomocą algorytmu TPE\n",
    "best = fmin(fn=objective, space=space, algo=tpe.suggest, max_evals=10)  # Dla przykładu ustawiono max_evals na 10\n",
    "print(\"Najlepsze hiperparametry:\", best)"
   ]
  },
  {
   "cell_type": "code",
   "execution_count": 3,
   "id": "e498ea76-9b7d-4e54-9f01-f974f6269914",
   "metadata": {
    "tags": []
   },
   "outputs": [
    {
     "name": "stdout",
     "output_type": "stream",
     "text": [
      "cpu\n"
     ]
    },
    {
     "name": "stderr",
     "output_type": "stream",
     "text": [
      "C:\\Users\\jderd\\anaconda3\\Lib\\site-packages\\torch_geometric\\deprecation.py:12: UserWarning: 'data.DataLoader' is deprecated, use 'loader.DataLoader' instead\n",
      "  warnings.warn(out)\n"
     ]
    },
    {
     "name": "stdout",
     "output_type": "stream",
     "text": [
      "Epoch: 0\n"
     ]
    },
    {
     "name": "stderr",
     "output_type": "stream",
     "text": [
      "C:\\Users\\jderd\\AppData\\Local\\Temp\\ipykernel_20464\\794946686.py:36: UserWarning: Using a target size (torch.Size([1, 1])) that is different to the input size (torch.Size([28, 1])). This will likely lead to incorrect results due to broadcasting. Please ensure they have the same size.\n",
      "  return F.mse_loss(pred, score)\n"
     ]
    },
    {
     "name": "stdout",
     "output_type": "stream",
     "text": [
      "Epoch: 10\n",
      "Epoch: 20\n",
      "Epoch: 30\n",
      "Epoch: 40\n",
      "Przewidywana wartość: 806.7830810546875\n",
      "Rzeczywista wartość: 790.0399780273438\n"
     ]
    }
   ],
   "source": [
    "import torch\n",
    "from torch_geometric.data import DataLoader\n",
    "\n",
    "device = torch.device('cuda' if torch.cuda.is_available() else 'cpu')\n",
    "\n",
    "print(device)\n",
    "# Ustawienie optymalnych hiperparametrów\n",
    "#optimal_hidden_dim = int(best['hidden_dim'])\n",
    "#optimal_dropout = best['dropout']\n",
    "\n",
    "optimal_hidden_dim = 192\n",
    "optimal_dropout = 0.06\n",
    "\n",
    "# Inicjalizacja modelu z optymalnymi hiperparametrami\n",
    "optimal_model = GraphRegressionModel(hidden_dim=optimal_hidden_dim, dropout=optimal_dropout)\n",
    "\n",
    "# Definiuj DataLoader dla zbiorów uczącego i testowego\n",
    "train_loader = DataLoader(train_dataset, batch_size=1 , shuffle=True)\n",
    "test_loader = DataLoader(test_dataset, batch_size=1, shuffle=False)\n",
    "\n",
    "# Definiuj optymalizator, liczbę epok, itp.\n",
    "optimizer = torch.optim.Adam(optimal_model.parameters(), lr=0.001)\n",
    "num_epochs = 50\n",
    "\n",
    "# Listy do śledzenia train loss i test loss\n",
    "train_losses = []\n",
    "test_losses = []\n",
    "\n",
    "# Trening modelu\n",
    "for epoch in range(num_epochs):\n",
    "    if epoch % 10 == 0:\n",
    "        print(\"Epoch:\", epoch)\n",
    "    for data in train_loader:\n",
    "        optimizer.zero_grad()\n",
    "        output = optimal_model(data)\n",
    "        loss = optimal_model.loss(output, data.y.view(-1, 1).float())\n",
    "        loss.backward()\n",
    "        optimizer.step()\n",
    "\n",
    "sample_data = test_dataset[0]\n",
    "\n",
    "# Przeprowadzenie predykcji na przykładowym obiekcie\n",
    "optimal_model.eval()\n",
    "with torch.no_grad():\n",
    "    prediction = optimal_model(sample_data)[0][0].item()\n",
    "\n",
    "# Wyświetlenie wyników\n",
    "print(\"Przewidywana wartość:\", prediction)\n",
    "print(\"Rzeczywista wartość:\", sample_data.y.item())"
   ]
  },
  {
   "cell_type": "code",
   "execution_count": 4,
   "id": "b4e0e9f9-d9b9-487b-a673-1a3ea0cd313c",
   "metadata": {
    "tags": []
   },
   "outputs": [
    {
     "name": "stdout",
     "output_type": "stream",
     "text": [
      "Przewidywana wartość: 807.6625366210938\n",
      "Rzeczywista wartość: 819.6900024414062\n"
     ]
    }
   ],
   "source": [
    "sample_data = test_dataset[9]\n",
    "\n",
    "# Przeprowadzenie predykcji na przykładowym obiekcie\n",
    "optimal_model.eval()\n",
    "with torch.no_grad():\n",
    "    prediction = optimal_model(sample_data)[0][0].item()\n",
    "\n",
    "# Wyświetlenie wyników\n",
    "print(\"Przewidywana wartość:\", prediction)\n",
    "print(\"Rzeczywista wartość:\", sample_data.y.item())"
   ]
  },
  {
   "cell_type": "code",
   "execution_count": 11,
   "id": "c5e5f93d-8db8-4a92-8058-f4ce2fa5f729",
   "metadata": {
    "tags": []
   },
   "outputs": [
    {
     "name": "stdout",
     "output_type": "stream",
     "text": [
      "Średnia procentowa jakość regresji dla wszystkich przykładów: 97.49%\n"
     ]
    }
   ],
   "source": [
    "from sklearn.metrics import r2_score\n",
    "\n",
    "optimal_model.load_state_dict(torch.load(\"model_big\"))\n",
    "\n",
    "total_accuracy = 0.0\n",
    "y_true = []\n",
    "y_pred = []\n",
    "\n",
    "# Iteracja przez cały zbiór testowy\n",
    "for i, sample_data in enumerate(test_dataset):\n",
    "    # Przeprowadzenie predykcji na przykładowym obiekcie\n",
    "    optimal_model.eval()\n",
    "    with torch.no_grad():\n",
    "        prediction = optimal_model(sample_data)[0][0].item()\n",
    "        y_pred.append(prediction)\n",
    "    \n",
    "    y_true.append(sample_data.y.item())\n",
    "    \n",
    "    # Wyświetlenie wyników\n",
    "    # print(f\"Przykład {i + 1}:\")\n",
    "    # print(\"Przewidywana wartość:\", prediction)\n",
    "    # print(\"Rzeczywista wartość:\", sample_data.y.item())\n",
    "    \n",
    "    # Obliczenie procentowej jakości regresji\n",
    "    actual_value = sample_data.y.item()\n",
    "    accuracy = 100 * (1 - abs(prediction - actual_value) / actual_value)\n",
    "    total_accuracy += accuracy\n",
    "    \n",
    "    # print(f\"Procentowa jakość regresji: {accuracy:.2f}%\\n\")\n",
    "\n",
    "# Obliczenie średniej jakości procentowej\n",
    "average_accuracy = total_accuracy / len(test_dataset)\n",
    "print(f\"Średnia procentowa jakość regresji dla wszystkich przykładów: {average_accuracy:.2f}%\")\n",
    "\n",
    "print(r2_score(y_true, y_pred))"
   ]
  },
  {
   "cell_type": "code",
   "execution_count": 5,
   "id": "f175333d-a83a-4a99-a172-800e4856b88c",
   "metadata": {},
   "outputs": [],
   "source": [
    "torch.save(optimal_model.state_dict(), \"model_big\")"
   ]
  },
  {
   "cell_type": "markdown",
   "id": "6ae87f71-2422-468e-ab00-fee88437c4b2",
   "metadata": {},
   "source": [
    "# Podsumowanie\n",
    "Metryki:\n",
    "R^2 i MSE\n",
    "I w walidacji krzyżowej"
   ]
  },
  {
   "cell_type": "code",
   "execution_count": null,
   "id": "04e588de-b397-4616-9762-e64173fe80f8",
   "metadata": {},
   "outputs": [],
   "source": []
  }
 ],
 "metadata": {
  "kernelspec": {
   "display_name": "Python 3 (ipykernel)",
   "language": "python",
   "name": "python3"
  },
  "language_info": {
   "codemirror_mode": {
    "name": "ipython",
    "version": 3
   },
   "file_extension": ".py",
   "mimetype": "text/x-python",
   "name": "python",
   "nbconvert_exporter": "python",
   "pygments_lexer": "ipython3",
   "version": "3.11.5"
  }
 },
 "nbformat": 4,
 "nbformat_minor": 5
}
